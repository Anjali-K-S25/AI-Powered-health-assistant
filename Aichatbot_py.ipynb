{
  "cells": [
    {
      "cell_type": "markdown",
      "metadata": {
        "id": "view-in-github",
        "colab_type": "text"
      },
      "source": [
        "<a href=\"https://colab.research.google.com/github/Anjali-K-S25/AI-Powered-health-assistant/blob/main/Aichatbot_py.ipynb\" target=\"_parent\"><img src=\"https://colab.research.google.com/assets/colab-badge.svg\" alt=\"Open In Colab\"/></a>"
      ]
    },
    {
      "cell_type": "code",
      "source": [
        "import streamlit as st\n",
        "from transformers import pipeline\n",
        "from nltk.corpus import stopwords\n",
        "from nltk.tokenize import word_tokenize\n",
        "\n",
        "# Load text generation model\n",
        "chatbot = pipeline(\"text-generation\", model=\"gpt2\")\n",
        "\n",
        "def healthcare_chatbot(user_input):\n",
        "    if \"symptoms\" in user_input.lower():\n",
        "        return \"Please consult a doctor for accurate advice.\"\n",
        "    elif \"appointment\" in user_input.lower():\n",
        "        return \"Would you like to schedule an appointment with the doctor?\"\n",
        "    elif \"medication\" in user_input.lower():\n",
        "        return \"It's important to take prescribed medicines regularly. If you have concerns, consult your doctor.\"\n",
        "    else:\n",
        "        response = chatbot(user_input, max_length=100, num_return_sequences=1)\n",
        "        return response[0]['generated_text']\n",
        "\n",
        "def main():\n",
        "    st.title(\"Healthcare Assistant Chatbot\")\n",
        "    user_input = st.text_input(\"How can I assist you today?\")\n",
        "\n",
        "    if st.button(\"Submit\"):\n",
        "        if user_input:\n",
        "            st.write(\"User:\", user_input)\n",
        "            response = healthcare_chatbot(user_input)\n",
        "            st.write(\"Healthcare Assistant:\", response)\n",
        "        else:\n",
        "            st.write(\"Please enter a message to get a response.\")\n",
        "\n",
        "if __name__ == \"__main__\":\n",
        "    main()"
      ],
      "metadata": {
        "id": "RKiqOLlRt9AR"
      },
      "execution_count": null,
      "outputs": []
    },
    {
      "cell_type": "code",
      "source": [
        "\n",
        "!streamlit run Aichatbot.py & npx localtunnel --port 8501"
      ],
      "metadata": {
        "id": "wI3wRvCst9Dr",
        "colab": {
          "base_uri": "https://localhost:8080/"
        },
        "outputId": "afac5715-4e7e-4796-96ff-f0c2dc36d8e2"
      },
      "execution_count": null,
      "outputs": [
        {
          "output_type": "stream",
          "name": "stdout",
          "text": [
            "Usage: streamlit run [OPTIONS] TARGET [ARGS]...\n",
            "Try 'streamlit run --help' for help.\n",
            "\n",
            "Error: Invalid value: File does not exist: Aichatbot.py\n",
            "\u001b[1G\u001b[0K⠙\u001b[1G\u001b[0K⠹\u001b[1G\u001b[0K⠸\u001b[1G\u001b[0K⠼\u001b[1G\u001b[0K⠴\u001b[1G\u001b[0K⠦\u001b[1G\u001b[0K⠧\u001b[1G\u001b[0K⠇\u001b[1G\u001b[0Kyour url is: https://curly-donuts-run.loca.lt\n"
          ]
        }
      ]
    },
    {
      "cell_type": "code",
      "source": [
        "Your app can be accessed at: https://xyz.loca.lt"
      ],
      "metadata": {
        "colab": {
          "base_uri": "https://localhost:8080/",
          "height": 141
        },
        "id": "2kDmKCzevEMa",
        "outputId": "e4aaefc2-7154-4009-d167-824637f4181f"
      },
      "execution_count": null,
      "outputs": [
        {
          "output_type": "error",
          "ename": "SyntaxError",
          "evalue": "invalid syntax (<ipython-input-96-01b84bc96c4a>, line 1)",
          "traceback": [
            "\u001b[0;36m  File \u001b[0;32m\"<ipython-input-96-01b84bc96c4a>\"\u001b[0;36m, line \u001b[0;32m1\u001b[0m\n\u001b[0;31m    Your app can be accessed at: https://xyz.loca.lt\u001b[0m\n\u001b[0m         ^\u001b[0m\n\u001b[0;31mSyntaxError\u001b[0m\u001b[0;31m:\u001b[0m invalid syntax\n"
          ]
        }
      ]
    }
  ],
  "metadata": {
    "colab": {
      "provenance": [],
      "authorship_tag": "ABX9TyOTAmOqxmoNt+l1FJD3OQn8",
      "include_colab_link": true
    },
    "kernelspec": {
      "display_name": "Python 3",
      "name": "python3"
    },
    "language_info": {
      "name": "python"
    }
  },
  "nbformat": 4,
  "nbformat_minor": 0
}