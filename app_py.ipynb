{
  "cells": [
    {
      "cell_type": "markdown",
      "metadata": {
        "id": "view-in-github",
        "colab_type": "text"
      },
      "source": [
        "<a href=\"https://colab.research.google.com/github/Anjali-K-S25/AI-Powered-health-assistant/blob/main/app_py.ipynb\" target=\"_parent\"><img src=\"https://colab.research.google.com/assets/colab-badge.svg\" alt=\"Open In Colab\"/></a>"
      ]
    },
    {
      "cell_type": "code",
      "source": [
        "pip install transformers torch accelerate gradio"
      ],
      "metadata": {
        "id": "8qctiHEVkZZF",
        "collapsed": true
      },
      "execution_count": null,
      "outputs": []
    },
    {
      "cell_type": "code",
      "source": [
        "!pip install bitsandbytes\n",
        "import bitsandbytes\n",
        "print(\"✅ bitsandbytes is installed correctly!\")"
      ],
      "metadata": {
        "id": "p_-PJ64wzgiX",
        "collapsed": true
      },
      "execution_count": null,
      "outputs": []
    },
    {
      "cell_type": "code",
      "source": [
        "from transformers import AutoTokenizer, AutoModelForCausalLM, BitsAndBytesConfig\n",
        "\n",
        "print(\"⏳ Loading BioMistral-7B model in 8-bit mode...\")\n",
        "\n",
        "bnb_config = BitsAndBytesConfig(load_in_8bit=True)\n",
        "\n",
        "tokenizer = AutoTokenizer.from_pretrained(\"BioMistral/BioMistral-7B\")\n",
        "model = AutoModelForCausalLM.from_pretrained(\n",
        "    \"BioMistral/BioMistral-7B\",\n",
        "    quantization_config=bnb_config,  # Enable 8-bit mode\n",
        "    device_map=\"auto\"\n",
        ")\n",
        "\n",
        "print(\"✅ Model loaded successfully in 8-bit mode!\")"
      ],
      "metadata": {
        "id": "-QfMkk820rFM"
      },
      "execution_count": null,
      "outputs": []
    },
    {
      "cell_type": "code",
      "source": [
        "import torch\n",
        "import gradio as gr\n",
        "\n",
        "# ✅ Define Chatbot Function\n",
        "def chat_with_meditron(user_query):\n",
        "    if not user_query.strip():\n",
        "        return \"⚠️ Please enter a valid medical question.\"\n",
        "\n",
        "    try:\n",
        "        device = \"cuda\" if torch.cuda.is_available() else \"cpu\"\n",
        "        inputs = tokenizer(user_query, return_tensors=\"pt\").to(device)\n",
        "\n",
        "        # **Optimized generation settings**\n",
        "        output = model.generate(\n",
        "            **inputs,\n",
        "            max_new_tokens=200,  # Restrict response length\n",
        "            temperature=0.5,  # More focused responses\n",
        "            top_p=0.8,  # Reduce hallucinations\n",
        "            repetition_penalty=1.2  # Avoid repeating phrases\n",
        "        )\n",
        "\n",
        "        response = tokenizer.decode(output[0], skip_special_tokens=True)\n",
        "\n",
        "        # **Filter out irrelevant answers**\n",
        "        if \"I'm sorry\" in response or len(response.split()) < 5:\n",
        "            return \"⚠️ I couldn't find a relevant medical answer. Please rephrase your question.\"\n",
        "\n",
        "        return response\n",
        "\n",
        "    except Exception as e:\n",
        "        return f\"⚠️ Error: {str(e)}\"\n",
        "\n",
        "# ✅ Define Gradio UI\n",
        "with gr.Blocks(theme=gr.themes.Soft()) as app:\n",
        "    with gr.Tab(\"🏥 Main Page\"):\n",
        "        gr.Markdown(\"<h1 style='text-align: center;'>🏥 AI Health Assistant</h1>\")\n",
        "        gr.Markdown(\"<p style='text-align: center; font-size:18px;'>Ask any medical-related question and get AI-generated insights.</p>\")\n",
        "\n",
        "        user_input = gr.Textbox(label=\"Enter your medical query:\")\n",
        "        submit_button = gr.Button(\"🔍 Get Answer\", variant=\"primary\")\n",
        "        chatbot_response = gr.Textbox(label=\"Chatbot Response\", interactive=False)\n",
        "\n",
        "        submit_button.click(chat_with_meditron, inputs=user_input, outputs=chatbot_response)\n",
        "\n",
        "    with gr.Tab(\"ℹ️ About\"):\n",
        "        gr.Markdown(\"<h2>ℹ️ About the AI Health Assistant</h2>\")\n",
        "        gr.Markdown(\"- 🏥 This AI chatbot answers **medical-related questions**.\\n- ⚠️ **Not a substitute for professional medical advice**.\\n- 🚀 Built using **Gradio** and **Hugging Face Models**.\")\n",
        "\n",
        "    with gr.Tab(\"❓ FAQ\"):\n",
        "        gr.Markdown(\"<h2>❓ Frequently Asked Questions</h2>\")\n",
        "\n",
        "        gr.Markdown(\"**1️⃣ Can I use this for medical diagnosis?**\\n- ❌ No, this is for **informational purposes only**. Always consult a healthcare professional for medical concerns.\")\n",
        "\n",
        "        gr.Markdown(\"**2️⃣ How accurate are the responses?**\\n- 📊 The AI provides answers based on trained medical data, but accuracy depends on the complexity of the question. Cross-check with reliable sources.\")\n",
        "\n",
        "        gr.Markdown(\"**3️⃣ Is my data safe?**\\n- 🔐 Yes, your input is **not stored**. This chatbot runs locally or through a secure cloud instance.\")\n",
        "\n",
        "        gr.Markdown(\"**4️⃣ What types of medical questions can I ask?**\\n- 💡 You can ask about **symptoms, diseases, medications, treatments, and general health advice**. However, it does **not replace professional medical consultation**.\")\n",
        "\n",
        "        gr.Markdown(\"**5️⃣ Does this AI prescribe medicine?**\\n- ❌ No, this chatbot does **not prescribe medications**. Always consult a doctor before taking any medicine.\")\n",
        "\n",
        "        gr.Markdown(\"**6️⃣ Can it provide emergency medical advice?**\\n- ⚠️ No, this AI is **not for emergency situations**. If you have a medical emergency, please call **emergency services immediately**.\")\n",
        "\n",
        "        gr.Markdown(\"**7️⃣ Is the chatbot suitable for mental health support?**\\n- 🧠 While it can provide **basic mental health guidance**, it is **not a substitute for professional therapy**. If you're struggling, seek help from a mental health professional.\")\n",
        "\n",
        "        gr.Markdown(\"**8️⃣ Can I trust the medical advice given?**\\n- 🏥 The AI provides information based on medical sources, but it should **not be your only source**. Always verify with medical professionals or trusted resources like the **WHO or CDC**.\")\n",
        "\n",
        "        gr.Markdown(\"**9️⃣ How frequently is the AI updated?**\\n- 🔄 The AI model is periodically updated based on available **medical research** and **AI improvements**. However, it's always best to **cross-check medical advice**.\")\n",
        "\n",
        "        gr.Markdown(\"**🔟 Can I use this chatbot for educational purposes?**\\n- 📚 Yes! This chatbot is great for **learning about medical topics** but should not be used for clinical decision-making.\")\n",
        "\n",
        "# ✅ Launch the app\n",
        "app.launch(share=True)"
      ],
      "metadata": {
        "id": "2EQ2enwn5usc"
      },
      "execution_count": null,
      "outputs": []
    }
  ],
  "metadata": {
    "colab": {
      "provenance": [],
      "gpuType": "T4",
      "authorship_tag": "ABX9TyNBCOiFxHWNPdCN6SI9r5ux",
      "include_colab_link": true
    },
    "kernelspec": {
      "display_name": "Python 3",
      "name": "python3"
    },
    "language_info": {
      "name": "python"
    },
    "accelerator": "GPU"
  },
  "nbformat": 4,
  "nbformat_minor": 0
}